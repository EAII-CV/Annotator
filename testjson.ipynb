{
 "cells": [
  {
   "cell_type": "code",
   "execution_count": 4,
   "source": [
    "import pandas as pd\n",
    "import json\n",
    "import os\n",
    "f = open(\"/Volumes/MLData/BreastAnnotated/DrMulu/PAT000007/03.dcm.json\")\n",
    "annotations=json.load(f)\n",
    "annotations=pd.read_json(\"/Volumes/MLData/BreastAnnotated/DrMulu/PAT000007/03.dcm.json\")\n",
    "\n",
    "print(annotations)"
   ],
   "outputs": [
    {
     "output_type": "stream",
     "name": "stdout",
     "text": [
      "   width  height label_name  label  birads_level birads_level_name  \\\n",
      "0   4800    6000  Lymphnode      7             2         BI-RADS 2   \n",
      "\n",
      "                                                poly  \n",
      "0  [[3630, 2271], [3699, 2298], [3699, 2344], [36...  \n"
     ]
    }
   ],
   "metadata": {}
  },
  {
   "cell_type": "code",
   "execution_count": 3,
   "source": [
    "for annotation in annotations:\n",
    "    print(annotation)"
   ],
   "outputs": [
    {
     "output_type": "stream",
     "name": "stdout",
     "text": [
      "{'width': 4800, 'height': 6000, 'label_name': 'Lymphnode', 'label': 7, 'birads_level': 2, 'birads_level_name': 'BI-RADS 2', 'poly': [[3630, 2271], [3699, 2298], [3699, 2344], [3668, 2359], [3641, 2359], [3614, 2342], [3598, 2316], [3598, 2300]]}\n"
     ]
    }
   ],
   "metadata": {}
  },
  {
   "cell_type": "markdown",
   "source": [],
   "metadata": {}
  }
 ],
 "metadata": {
  "orig_nbformat": 4,
  "language_info": {
   "name": "python",
   "version": "3.8.10",
   "mimetype": "text/x-python",
   "codemirror_mode": {
    "name": "ipython",
    "version": 3
   },
   "pygments_lexer": "ipython3",
   "nbconvert_exporter": "python",
   "file_extension": ".py"
  },
  "kernelspec": {
   "name": "python3",
   "display_name": "Python 3.8.10 64-bit ('sam': conda)"
  },
  "interpreter": {
   "hash": "402f8704785d417fe24328366773e938c936d32909b99a84d523cd39957a15b1"
  }
 },
 "nbformat": 4,
 "nbformat_minor": 2
}